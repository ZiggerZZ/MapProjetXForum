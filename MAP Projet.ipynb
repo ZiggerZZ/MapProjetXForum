{
 "cells": [
  {
   "cell_type": "markdown",
   "metadata": {},
   "source": [
    "## X-Forum, Projet de MAP"
   ]
  },
  {
   "cell_type": "code",
   "execution_count": 8,
   "metadata": {
    "collapsed": true
   },
   "outputs": [],
   "source": [
    "%matplotlib inline\n",
    "import numpy as np\n",
    "import matplotlib.pyplot as plt\n",
    "import random\n",
    "import math\n",
    "from collections import Counter\n",
    "from numpy import cumsum\n",
    "from scipy import stats\n",
    "from scipy.stats import norm"
   ]
  },
  {
   "cell_type": "code",
   "execution_count": 22,
   "metadata": {
    "collapsed": true
   },
   "outputs": [],
   "source": [
    "#take one random goodie from 2 boxes (first strategy)\n",
    "def choose_a_goodie_first_st(L, n): #L - list of n elements, n - number of colors\n",
    "    i = random.randint(0, n-1)\n",
    "    L[i] -= 1\n",
    "    return L\n",
    "    \n",
    "#take one random goodie from 1 box (second strategy)\n",
    "def choose_a_goodie_second_st(L, n): #L - list of n elements, n - number of colors\n",
    "    all_goodies = np.sum(L)\n",
    "    p = list(1.0*L / all_goodies) #probability of taking from i-th box is L[i] / all_goodies\n",
    "    #i = np.random.choice(n, 1, p)[0] apparently it doesn't work properly\n",
    "    custm = stats.rv_discrete(name='custm', values=(np.arange(n), p))\n",
    "    i = custm.rvs(size=1)\n",
    "    L[i] -= 1\n",
    "    return L\n",
    "\n",
    "#take one random goodie from 1 box with 2 colors (second strategy)\n",
    "def choose_a_goodie_second_st2(L): #L - list of two elements, first \n",
    "    p = 1.0*L[0]/(L[0]+L[1]) # probability of taking read goodie\n",
    "    i = np.random.binomial(1, p) #i = 1 with proba p et i = 0 with proba 1-p\n",
    "    if i == 0:\n",
    "        return [L[0], L[1]-1]\n",
    "    else:\n",
    "        return [L[0]-1, L[1]]\n",
    "    \n",
    "def choose_a_goodie(L, n, s): # L - list of n elements, n - number of colors, s - strategy (1 or 2)\n",
    "    if s == 1:\n",
    "        return choose_a_goodie_first_st(L, n)\n",
    "    if s == 2:\n",
    "        if (n > 2):\n",
    "            return choose_a_goodie_second_st(L, n)\n",
    "        if (n == 2):\n",
    "            return choose_a_goodie_second_st2(L)"
   ]
  },
  {
   "cell_type": "code",
   "execution_count": 10,
   "metadata": {
    "collapsed": false
   },
   "outputs": [],
   "source": [
    "#n - number of colors, N - number of goodies of each color, s - strategy (1 or 2)\n",
    "#return one realisation of chosen random variable\n",
    "def generate_random_variable(n, N, s):\n",
    "    boxes = N*np.ones(n, dtype=np.int)\n",
    "    variable = 0\n",
    "    #taking goodies while there are in both boxes\n",
    "    while all(box > 0 for box in boxes):\n",
    "        boxes = choose_a_goodie(boxes, n, s)\n",
    "    variable = np.sum(boxes)\n",
    "    return variable\n",
    "\n",
    "#n - number of colors, N - number of goodies of each color, k - number of simulations, s - strategy (1 or 2)\n",
    "#returns array of realisations of chosen random variable\n",
    "def make_simulations(n, N, k, s):\n",
    "    variables = np.zeros(k) #number of goodies left at the end\n",
    "    for i in range(k): #i - index of the simulation\n",
    "        variables[i] = generate_random_variable(n, N, s)\n",
    "    return variables\n",
    "\n",
    "#!!!counts empirical probabilities by given sample with addinig missing values; variables must be an array of int\n",
    "def values_and_empirical_probabilities(variables):\n",
    "    c = Counter(variables)\n",
    "    k = len(variables)\n",
    "    max_number_of_goodies_left = int(max(c.keys()))\n",
    "    all_possible_numbers_of_goodies_left = range(1, 1 + max_number_of_goodies_left)\n",
    "    res = np.zeros(max_number_of_goodies_left + 1)\n",
    "\n",
    "    for i in all_possible_numbers_of_goodies_left:\n",
    "        res[i] = c[i]\n",
    "    probability = (1.0/k)*np.array(res[1:max_number_of_goodies_left + 1])\n",
    "    \n",
    "    return (np.array(all_possible_numbers_of_goodies_left), probability)"
   ]
  },
  {
   "cell_type": "code",
   "execution_count": 24,
   "metadata": {
    "collapsed": false
   },
   "outputs": [
    {
     "data": {
      "text/plain": [
       "[<matplotlib.lines.Line2D at 0x113c6e310>]"
      ]
     },
     "execution_count": 24,
     "metadata": {},
     "output_type": "execute_result"
    },
    {
     "data": {
      "image/png": "[encoded data removed]",
      "text/plain": [
       "<matplotlib.figure.Figure at 0x113ad5b90>"
      ]
     },
     "metadata": {},
     "output_type": "display_data"
    }
   ],
   "source": [
    "n = 2 #number of colors\n",
    "N = 1000 #number of goodies of each color\n",
    "k = 1000 #number of simulations\n",
    "s = 2 # strategy\n",
    "coefficient = 1\n",
    "if s == 1:\n",
    "    coefficient = 1.0/math.sqrt(N)\n",
    "\n",
    "variables = make_simulations(n, N, k, s)\n",
    "plt.plot(np.arange(k), coefficient*variables, 'ro')"
   ]
  },
  {
   "cell_type": "code",
   "execution_count": 25,
   "metadata": {
    "collapsed": false
   },
   "outputs": [
    {
     "data": {
      "text/plain": [
       "<Container object of 10 artists>"
      ]
     },
     "execution_count": 25,
     "metadata": {},
     "output_type": "execute_result"
    },
    {
     "data": {
      "image/png": "[encoded data removed]",
      "text/plain": [
       "<matplotlib.figure.Figure at 0x1138cd290>"
      ]
     },
     "metadata": {},
     "output_type": "display_data"
    }
   ],
   "source": [
    "all_possible_numbers_of_goodies_left, probability = values_and_empirical_probabilities(variables)\n",
    "\n",
    "width = 1\n",
    "if s == 1:\n",
    "    width = 10.0/len(all_possible_numbers_of_goodies_left)\n",
    "\n",
    "plt.bar(coefficient*all_possible_numbers_of_goodies_left, probability, width=width, color='y')"
   ]
  },
  {
   "cell_type": "code",
   "execution_count": 26,
   "metadata": {
    "collapsed": false
   },
   "outputs": [
    {
     "data": {
      "text/plain": [
       "<Container object of 10 artists>"
      ]
     },
     "execution_count": 26,
     "metadata": {},
     "output_type": "execute_result"
    },
    {
     "data": {
      "image/png": "[encoded data removed]",
      "text/plain": [
       "<matplotlib.figure.Figure at 0x113349cd0>"
      ]
     },
     "metadata": {},
     "output_type": "display_data"
    }
   ],
   "source": [
    "CDF = np.cumsum(probability) #cumulative distribution function\n",
    "plt.bar(coefficient*all_possible_numbers_of_goodies_left, CDF, width=width, color='g')"
   ]
  },
  {
   "cell_type": "code",
   "execution_count": 27,
   "metadata": {
    "collapsed": false
   },
   "outputs": [
    {
     "data": {
      "text/plain": [
       "<Container object of 10 artists>"
      ]
     },
     "execution_count": 27,
     "metadata": {},
     "output_type": "execute_result"
    },
    {
     "data": {
      "image/png": "[encoded data removed]",
      "text/plain": [
       "<matplotlib.figure.Figure at 0x113fccd10>"
      ]
     },
     "metadata": {},
     "output_type": "display_data"
    }
   ],
   "source": [
    "#attention - it's only for s = 1 (almost gauss)\n",
    "if (s == 1):\n",
    "    sqrt2 = math.sqrt(2)\n",
    "    plt.bar(coefficient*all_possible_numbers_of_goodies_left, 2*norm.cdf(coefficient*all_possible_numbers_of_goodies_left, 0, sqrt2)-1, width=width, color='b')"
   ]
  },
  {
   "cell_type": "raw",
   "metadata": {},
   "source": [
    "Now we will simulate the convergence on E(A_n), n->oo."
   ]
  },
  {
   "cell_type": "code",
   "execution_count": 28,
   "metadata": {
    "collapsed": false
   },
   "outputs": [
    {
     "name": "stdout",
     "output_type": "stream",
     "text": [
      "2.003\n"
     ]
    }
   ],
   "source": [
    "sum_of_variables = coefficient*sum(variables)\n",
    "expectation = sum_of_variables / k\n",
    "print expectation"
   ]
  },
  {
   "cell_type": "code",
   "execution_count": 29,
   "metadata": {
    "collapsed": false
   },
   "outputs": [
    {
     "data": {
      "image/png": "[encoded data removed]",
      "text/plain": [
       "<matplotlib.figure.Figure at 0x113fcccd0>"
      ]
     },
     "metadata": {},
     "output_type": "display_data"
    }
   ],
   "source": [
    "#an example of stats.rv_discrete, don't need for project\n",
    "xk = np.arange(7)\n",
    "pk = (0.1, 0.2, 0.3, 0.1, 0.1, 0.0, 0.2)\n",
    "custm = stats.rv_discrete(name='custm', values=(xk, pk))\n",
    "\n",
    "fig, ax = plt.subplots(1, 1)\n",
    "ax.plot(xk, custm.pmf(xk), 'ro', ms=12, mec='r')\n",
    "ax.vlines(xk, 0, custm.pmf(xk), colors='r', lw=4)\n",
    "plt.show()"
   ]
  }
 ],
 "metadata": {
  "kernelspec": {
   "display_name": "Python 2",
   "language": "python",
   "name": "python2"
  },
  "language_info": {
   "codemirror_mode": {
    "name": "ipython",
    "version": 2
   },
   "file_extension": ".py",
   "mimetype": "text/x-python",
   "name": "python",
   "nbconvert_exporter": "python",
   "pygments_lexer": "ipython2",
   "version": "2.7.12"
  }
 },
 "nbformat": 4,
 "nbformat_minor": 0
}
