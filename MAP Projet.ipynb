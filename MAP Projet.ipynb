{
 "cells": [
  {
   "cell_type": "markdown",
   "metadata": {},
   "source": [
    "## X-Forum, Projet de MAP"
   ]
  },
  {
   "cell_type": "code",
   "execution_count": 1,
   "metadata": {
    "collapsed": true
   },
   "outputs": [],
   "source": [
    "#un truc joli pour voir combien de temps marche une cycle\n",
    "def log_progress(sequence, every=None, size=None):\n",
    "    from ipywidgets import IntProgress, HTML, VBox\n",
    "    from IPython.display import display\n",
    "    from datetime import timedelta\n",
    "    from time import time\n",
    "    \n",
    "    is_iterator = False\n",
    "    if size is None:\n",
    "        try:\n",
    "            size = len(sequence)\n",
    "        except TypeError:\n",
    "            is_iterator = True\n",
    "    if size is not None:\n",
    "        if every is None:\n",
    "            if size <= 200:\n",
    "                every = 1\n",
    "            else:\n",
    "                every = size / 200     # every 0.5%\n",
    "    else:\n",
    "        assert every is not None, 'sequence is iterator, set every'\n",
    "\n",
    "    if is_iterator:\n",
    "        progress = IntProgress(min=0, max=1, value=1)\n",
    "        progress.bar_style = 'info'\n",
    "    else:\n",
    "        progress = IntProgress(min=0, max=size, value=0)\n",
    "    label = HTML()\n",
    "    box = VBox(children=[label, progress])\n",
    "    display(box)\n",
    "    \n",
    "    index = 0\n",
    "    timestamps = []\n",
    "    delta_timestamps = []\n",
    "    try:\n",
    "        for index, record in enumerate(sequence, 1):\n",
    "            timestamps.append(time())\n",
    "            if index == 1 or index % every == 0:\n",
    "                if is_iterator:\n",
    "                    label.value = '{index} / ?'.format(index=index)\n",
    "                else:\n",
    "                    progress.value = index\n",
    "                    if len(timestamps) == 1 :\n",
    "                        eta = u''\n",
    "                    else:\n",
    "                        delta_timestamps.append(timestamps[-1] - timestamps[-2])\n",
    "                        last = timedelta(seconds=timestamps[-1] - timestamps[-2])\n",
    "                        avr = sum(delta_timestamps) / float(len(delta_timestamps))\n",
    "                        eta = u'(time remaining : {eta} | last : {last} | avr : {avr})'.format(\n",
    "                            eta=str(timedelta(seconds=avr * (size - index))).split('.', 2)[0],\n",
    "                            last=str(last).split('.', 2)[0],\n",
    "                            avr=str(timedelta(seconds=avr)).split('.', 2)[0]\n",
    "                        )\n",
    "                    label.value = u'{index} / {size} {eta}'.format(\n",
    "                        index=index,\n",
    "                        size=size,\n",
    "                        eta=eta\n",
    "                    )\n",
    "            yield record\n",
    "    except:\n",
    "        progress.bar_style = 'danger'\n",
    "        raise\n",
    "    else:\n",
    "        progress.bar_style = 'success'\n",
    "        progress.value = index\n",
    "        try:\n",
    "            avr = u' | avr iteration time : {avr})'.format(\n",
    "                avr=str(timedelta(seconds=sum(delta_timestamps)\n",
    "                                  / float(len(delta_timestamps)))).split('.', 2)[0]\n",
    "            )\n",
    "        except:\n",
    "            avr=')'\n",
    "        try:\n",
    "            total = u' (total time : {total}'.format(\n",
    "                total=str(timedelta(seconds=timestamps[-1]-timestamps[0])).split('.', 2)[0]\n",
    "            )\n",
    "        except:\n",
    "            avr = ''\n",
    "            total = ''\n",
    "        label.value = str(str(index) + total + avr or '?')"
   ]
  },
  {
   "cell_type": "code",
   "execution_count": 2,
   "metadata": {
    "collapsed": true
   },
   "outputs": [],
   "source": [
    "%matplotlib inline\n",
    "import numpy as np\n",
    "import matplotlib.pyplot as plt\n",
    "import random\n",
    "import math\n",
    "from collections import Counter\n",
    "from numpy import cumsum\n",
    "from scipy import stats\n",
    "from scipy.stats import norm"
   ]
  },
  {
   "cell_type": "code",
   "execution_count": 6,
   "metadata": {
    "collapsed": true
   },
   "outputs": [],
   "source": [
    "#take one random goodie from 2 boxes (first strategy)\n",
    "def choose_a_goodie_first_st(L, n): #L - list of n elements, n - number of colors\n",
    "    i = random.randint(0, n-1)\n",
    "    while L[i] == 0:\n",
    "        i = random.randint(0, n-1)\n",
    "    L[i] -= 1\n",
    "    return L\n",
    "    \n",
    "#take one random goodie from 1 box (second strategy)\n",
    "def choose_a_goodie_second_st(L, n): #L - list of n elements, n - number of colors\n",
    "    all_goodies = np.sum(L)\n",
    "    p = list(1.0*L / all_goodies) #probability of taking from i-th box is L[i] / all_goodies\n",
    "    #i = np.random.choice(n, 1, p)[0] apparently it doesn't work properly\n",
    "    custm = stats.rv_discrete(name='custm', values=(np.arange(n), p))\n",
    "    i = custm.rvs(size=1)\n",
    "    L[i] -= 1\n",
    "    return L\n",
    "\n",
    "#take one random goodie from 1 box (second strategy)\n",
    "#WORKS MUCH MORE FASTER but code is not that nice \n",
    "def choose_a_goodie_second_st_beta(L, n): #L - list of n elements, n - number of colors\n",
    "    all_goodies = np.sum(L)\n",
    "    p = np.array(1.0*L / all_goodies) #probability of taking from i-th box is L[i] / all_goodies\n",
    "    cumsum = np.cumsum(p)\n",
    "    r = random.random()\n",
    "    i = next(j for j, v in enumerate(cumsum) if r < v)\n",
    "    L[i] -= 1\n",
    "    return L\n",
    "\n",
    "#take one random goodie from 1 box with 2 colors (second strategy)\n",
    "#it's very good for 2 colors, but actually it's just a subcase of choose_a_goodie_second_st_beta\n",
    "def choose_a_goodie_second_st2(L): #L - list of two elements, first \n",
    "    p = 1.0*L[0]/(L[0]+L[1]) # probability of taking read goodie\n",
    "    i = np.random.binomial(1, p) #i = 1 with proba p et i = 0 with proba 1-p\n",
    "    if i == 0:\n",
    "        return [L[0], L[1]-1]\n",
    "    else:\n",
    "        return [L[0]-1, L[1]]\n",
    "\n",
    "def choose_a_goodie(L, n, s): # L - list of n elements, n - number of colors, s - strategy (1 or 2)\n",
    "    if s == 1:\n",
    "        return choose_a_goodie_first_st(L, n)\n",
    "    if s == 2:\n",
    "        if (n > 2):\n",
    "            return choose_a_goodie_second_st_beta(L, n)\n",
    "        if (n == 2):\n",
    "            return choose_a_goodie_second_st2(L)"
   ]
  },
  {
   "cell_type": "code",
   "execution_count": 7,
   "metadata": {
    "collapsed": false
   },
   "outputs": [],
   "source": [
    "#n - number of colors, N - number of goodies of each color, s - strategy (1 or 2)\n",
    "#return one realisation of chosen random variable\n",
    "def generate_random_variable(n, N, s):\n",
    "    boxes = N*np.ones(n, dtype=np.int)\n",
    "    variable = 0\n",
    "    #taking goodies while there are in both boxes\n",
    "    count = N #counter of non empty boxes\n",
    "    while count > 1:\n",
    "        boxes = choose_a_goodie(boxes, n, s)\n",
    "        count = sum(box > 0 for box in boxes)\n",
    "    variable = np.sum(boxes)\n",
    "    return variable\n",
    "\n",
    "#n - number of colors, N - number of goodies of each color, k - number of simulations, s - strategy (1 or 2)\n",
    "#returns array of realisations of chosen random variable\n",
    "def make_simulations(n, N, k, s):\n",
    "    variables = np.zeros(k) #number of goodies left at the end\n",
    "    #for i in range(k): #i - index of the simulation\n",
    "    for i in log_progress(range(k)):\n",
    "        variables[i] = generate_random_variable(n, N, s)\n",
    "    return variables\n",
    "\n",
    "#!!!counts empirical probabilities by given sample with addinig missing values; variables must be an array of int\n",
    "def values_and_empirical_probabilities(variables):\n",
    "    c = Counter(variables)\n",
    "    k = len(variables)\n",
    "    max_number_of_goodies_left = int(max(c.keys()))\n",
    "    all_possible_numbers_of_goodies_left = range(1, 1 + max_number_of_goodies_left)\n",
    "    res = np.zeros(max_number_of_goodies_left + 1)\n",
    "\n",
    "    for i in all_possible_numbers_of_goodies_left:\n",
    "        res[i] = c[i]\n",
    "    probability = (1.0/k)*np.array(res[1:max_number_of_goodies_left + 1])\n",
    "    \n",
    "    return (np.array(all_possible_numbers_of_goodies_left), probability)"
   ]
  },
  {
   "cell_type": "code",
   "execution_count": 13,
   "metadata": {
    "collapsed": false
   },
   "outputs": [
    {
     "data": {
      "text/plain": [
       "[<matplotlib.lines.Line2D at 0x111bd4a10>]"
      ]
     },
     "execution_count": 13,
     "metadata": {},
     "output_type": "execute_result"
    },
    {
     "data": {
      "image/png": "[encoded data removed]",
      "text/plain": [
       "<matplotlib.figure.Figure at 0x105c19a90>"
      ]
     },
     "metadata": {},
     "output_type": "display_data"
    }
   ],
   "source": [
    "n = 2 #number of colors\n",
    "N = 1000 #number of goodies of each color\n",
    "k = 1000 #number of simulations\n",
    "s = 1 # strategy\n",
    "coefficient = 1\n",
    "if s == 1:\n",
    "    coefficient = 1.0/math.sqrt(N)\n",
    "\n",
    "variables = make_simulations(n, N, k, s)\n",
    "plt.plot(np.arange(k), coefficient*variables, 'ro')"
   ]
  },
  {
   "cell_type": "code",
   "execution_count": 14,
   "metadata": {
    "collapsed": false
   },
   "outputs": [
    {
     "data": {
      "text/plain": [
       "<Container object of 145 artists>"
      ]
     },
     "execution_count": 14,
     "metadata": {},
     "output_type": "execute_result"
    },
    {
     "data": {
      "image/png": "[encoded data removed]",
      "text/plain": [
       "<matplotlib.figure.Figure at 0x111ab3190>"
      ]
     },
     "metadata": {},
     "output_type": "display_data"
    }
   ],
   "source": [
    "all_possible_numbers_of_goodies_left, probability = values_and_empirical_probabilities(variables)\n",
    "\n",
    "width = 1\n",
    "if s == 1:\n",
    "    width = 10.0/len(all_possible_numbers_of_goodies_left)\n",
    "\n",
    "plt.bar(coefficient*all_possible_numbers_of_goodies_left, probability, width=width, color='y')"
   ]
  },
  {
   "cell_type": "code",
   "execution_count": 15,
   "metadata": {
    "collapsed": false
   },
   "outputs": [
    {
     "data": {
      "text/plain": [
       "<Container object of 145 artists>"
      ]
     },
     "execution_count": 15,
     "metadata": {},
     "output_type": "execute_result"
    },
    {
     "data": {
      "image/png": "[encoded data removed]",
      "text/plain": [
       "<matplotlib.figure.Figure at 0x1120162d0>"
      ]
     },
     "metadata": {},
     "output_type": "display_data"
    }
   ],
   "source": [
    "CDF = np.cumsum(probability) #cumulative distribution function\n",
    "plt.bar(coefficient*all_possible_numbers_of_goodies_left, CDF, width=width, color='g')"
   ]
  },
  {
   "cell_type": "code",
   "execution_count": 16,
   "metadata": {
    "collapsed": false
   },
   "outputs": [
    {
     "data": {
      "image/png": "[encoded data removed]",
      "text/plain": [
       "<matplotlib.figure.Figure at 0x111688850>"
      ]
     },
     "metadata": {},
     "output_type": "display_data"
    }
   ],
   "source": [
    "#attention - it's only for s = 1 (almost gauss)\n",
    "if (s == 1):\n",
    "    sigma = math.sqrt(1.0*n/(n-1))\n",
    "    plt.bar(coefficient*all_possible_numbers_of_goodies_left, 2*norm.cdf(coefficient*all_possible_numbers_of_goodies_left, 0, sigma)-1, width=width, color='b')\n",
    "if (s == 2):\n",
    "    print 'Obviously it is geometric!'"
   ]
  },
  {
   "cell_type": "code",
   "execution_count": 17,
   "metadata": {
    "collapsed": false
   },
   "outputs": [
    {
     "data": {
      "image/png": "[encoded data removed]",
      "text/plain": [
       "<matplotlib.figure.Figure at 0x110140590>"
      ]
     },
     "metadata": {},
     "output_type": "display_data"
    }
   ],
   "source": [
    "if (s == 1):\n",
    "    plt.bar(coefficient*all_possible_numbers_of_goodies_left, CDF - (2*norm.cdf(coefficient*all_possible_numbers_of_goodies_left, 0, sigma)-1), width=width, color='b')"
   ]
  },
  {
   "cell_type": "raw",
   "metadata": {},
   "source": [
    "Now we will simulate the convergence on E(A_n), n->oo."
   ]
  },
  {
   "cell_type": "code",
   "execution_count": 13,
   "metadata": {
    "collapsed": false
   },
   "outputs": [
    {
     "name": "stdout",
     "output_type": "stream",
     "text": [
      "1.515\n"
     ]
    }
   ],
   "source": [
    "sum_of_variables = coefficient*sum(variables)\n",
    "expectation = sum_of_variables / k\n",
    "print expectation"
   ]
  }
 ],
 "metadata": {
  "kernelspec": {
   "display_name": "Python 2",
   "language": "python",
   "name": "python2"
  },
  "language_info": {
   "codemirror_mode": {
    "name": "ipython",
    "version": 2
   },
   "file_extension": ".py",
   "mimetype": "text/x-python",
   "name": "python",
   "nbconvert_exporter": "python",
   "pygments_lexer": "ipython2",
   "version": "2.7.12"
  }
 },
 "nbformat": 4,
 "nbformat_minor": 0
}
